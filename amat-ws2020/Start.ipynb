{
 "cells": [
  {
   "cell_type": "markdown",
   "metadata": {},
   "source": [
    "# Angewandte Mathematik (WS2020)\n",
    "\n",
    "Leeres Jupyter Notebook als Ausgangspunkt für die Übung. \n",
    "\n",
    "<div class=\"alert alert-block alert-danger\">\n",
    "    Wenn Sie das Notebook über <a href=\"https://mybinder.org/\">mybinder.org</a> geöffnet haben (Link auf der Kurswebseite), dann können Sie auf dem Server keine Ergebnisse speichern!\n",
    "    Nach 10 Minuten Inaktivität löscht mybinder <em>alle</em> Ergebnisse. Laden Sie sich das Notebook daher regelmäßig auf Ihren Rechner. \n",
    "    Gehen Sie dazu auf wie folgt vor:\n",
    "    <ol>\n",
    "        <li>Wählen Sie in der Menüleiste <b>File</b> &rarr; <b>Download&nbsp;as</b></li>\n",
    "        <li>Wählen Sie als Format <b>Notebook (.ipynb)</b></li>\n",
    "        <li>Je nach Browsereinstellungen lädt Ihr Browser das Notebook direkt herunter oder fragt Sie wo Sie die Datei speichern wollen.</li>\n",
    "    </ol>\n",
    "</div>"
   ]
  },
  {
   "cell_type": "markdown",
   "metadata": {},
   "source": [
    "Zunächst importieren wir einige Pythonmodule die wir immer wieder benötigen werden:\n",
    "* [NumPy](https://numpy.org): Numerische Basisroutinen ([Dokumentation][np-doc])\n",
    "* [SymPy][sp]: Symbolisches Rechnen ([Dokumentation][sympy-doc]\n",
    "\n",
    "[sp]: https://www.sympy.org/en/index.html\n",
    "[sp-doc]: https://docs.sympy.org/latest/index.html\n",
    "[np]: https://numpy.org/\n",
    "[np-doc]: https://numpy.org/doc/stable/"
   ]
  },
  {
   "cell_type": "code",
   "execution_count": 53,
   "metadata": {},
   "outputs": [],
   "source": [
    "import numpy as np\n",
    "import sympy as sp"
   ]
  },
  {
   "cell_type": "code",
   "execution_count": 54,
   "metadata": {},
   "outputs": [],
   "source": [
    "sp.init_printing(use_latex=True)"
   ]
  },
  {
   "cell_type": "markdown",
   "metadata": {},
   "source": [
    "Zur Erinnerung:\n",
    "* Sie können Zellen mit Quellcode ausführen indem Sie die Zelle auswählen und **Shift** + **Return** drücken.\n",
    "* Mit dern Pfeiltasten können Sie zwischen Zellen wechseln. \n",
    "* Um eine Zelle zu bearbeiten, wählen Sie diese aus und drücken **Return**.\n",
    "* Um Kommentare oder Freitext einzufügen, ändern Sie den Typ einer Zelle in *Markdown*. Wählen Sie dazu im Menü **Cell** &rarr; **Cell&nbsp;Type** **Markdown** aus.\n",
    "* Wenn Sie die letzte Zeile ausführen, fügt Jupyter automatisch eine neue Zelle am Ende des Notebooks an."
   ]
  },
  {
   "cell_type": "code",
   "execution_count": 55,
   "metadata": {},
   "outputs": [
    {
     "data": {
      "image/png": "[encoded data removed]",
      "text/latex": [
       "$\\displaystyle x^{2} - 4 x y + 4 y^{2}$"
      ],
      "text/plain": [
       " 2              2\n",
       "x  - 4⋅x⋅y + 4⋅y "
      ]
     },
     "execution_count": 55,
     "metadata": {},
     "output_type": "execute_result"
    }
   ],
   "source": [
    "x, y, t = sp.symbols('x y t')\n",
    "poly = x**2 - 4*x*y + 4*y**2\n",
    "poly"
   ]
  },
  {
   "cell_type": "code",
   "execution_count": 56,
   "metadata": {},
   "outputs": [
    {
     "data": {
      "image/png": "[encoded data removed]",
      "text/latex": [
       "$\\displaystyle \\left(x - 2 y\\right)^{2}$"
      ],
      "text/plain": [
       "         2\n",
       "(x - 2⋅y) "
      ]
     },
     "execution_count": 56,
     "metadata": {},
     "output_type": "execute_result"
    }
   ],
   "source": [
    "factors = sp.factor(poly)\n",
    "factors"
   ]
  },
  {
   "cell_type": "code",
   "execution_count": 57,
   "metadata": {},
   "outputs": [
    {
     "data": {
      "image/png": "[encoded data removed]",
      "text/latex": [
       "$\\displaystyle x^{2} - 4 x y + 4 y^{2}$"
      ],
      "text/plain": [
       " 2              2\n",
       "x  - 4⋅x⋅y + 4⋅y "
      ]
     },
     "execution_count": 57,
     "metadata": {},
     "output_type": "execute_result"
    }
   ],
   "source": [
    "sp.expand(factors)"
   ]
  },
  {
   "cell_type": "markdown",
   "metadata": {},
   "source": [
    "Löse das bestimmte Integral:\n",
    "\n",
    "$$\\int_0^\\infty \\exp(-x)\\mathop{}\\!\\mathrm{d}x$$"
   ]
  },
  {
   "cell_type": "code",
   "execution_count": 58,
   "metadata": {},
   "outputs": [
    {
     "data": {
      "image/png": "[encoded data removed]",
      "text/latex": [
       "$\\displaystyle 1$"
      ],
      "text/plain": [
       "1"
      ]
     },
     "execution_count": 58,
     "metadata": {},
     "output_type": "execute_result"
    }
   ],
   "source": [
    "sp.integrate(sp.exp(-x), (x, 0, sp.oo))"
   ]
  },
  {
   "cell_type": "markdown",
   "metadata": {},
   "source": [
    "Bestimme die Stammfunktion von\n",
    "\n",
    "$$ \\int 2 \\exp(-\\frac{x}{2})\\mathop{}\\!\\mathrm{d}x$$"
   ]
  },
  {
   "cell_type": "code",
   "execution_count": 59,
   "metadata": {},
   "outputs": [
    {
     "data": {
      "image/png": "[encoded data removed]",
      "text/latex": [
       "$\\displaystyle - 4 e^{- \\frac{x}{2}}$"
      ],
      "text/plain": [
       "    -x \n",
       "    ───\n",
       "     2 \n",
       "-4⋅ℯ   "
      ]
     },
     "metadata": {},
     "output_type": "display_data"
    }
   ],
   "source": [
    "f = 2 * sp.exp(-x/2)\n",
    "F = sp.integrate(f, x)\n",
    "display(F)"
   ]
  },
  {
   "cell_type": "code",
   "execution_count": 60,
   "metadata": {},
   "outputs": [
    {
     "data": {
      "image/png": "[encoded data removed]",
      "text/latex": [
       "$\\displaystyle x^{2} - \\frac{x^{6}}{6} + O\\left(x^{10}\\right)$"
      ],
      "text/plain": [
       "      6         \n",
       " 2   x     ⎛ 10⎞\n",
       "x  - ── + O⎝x  ⎠\n",
       "     6          "
      ]
     },
     "execution_count": 60,
     "metadata": {},
     "output_type": "execute_result"
    }
   ],
   "source": [
    "(sp.sin(x**2)).series(x, n=10)"
   ]
  },
  {
   "cell_type": "code",
   "execution_count": null,
   "metadata": {},
   "outputs": [],
   "source": []
  },
  {
   "cell_type": "code",
   "execution_count": null,
   "metadata": {},
   "outputs": [],
   "source": []
  }
 ],
 "metadata": {
  "kernelspec": {
   "display_name": "Python 3",
   "language": "python",
   "name": "python3"
  },
  "language_info": {
   "codemirror_mode": {
    "name": "ipython",
    "version": 3
   },
   "file_extension": ".py",
   "mimetype": "text/x-python",
   "name": "python",
   "nbconvert_exporter": "python",
   "pygments_lexer": "ipython3",
   "version": "3.9.0"
  }
 },
 "nbformat": 4,
 "nbformat_minor": 4
}
