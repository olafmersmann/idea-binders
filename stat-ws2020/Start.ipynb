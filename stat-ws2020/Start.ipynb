{
 "cells": [
  {
   "cell_type": "markdown",
   "metadata": {},
   "source": [
    "# Statistik für Wirtschaftsingenieure (WS2020)\n",
    "\n",
    "Leeres Jupyter Notebook als Ausgangspunkt für Experimente. \n",
    "\n",
    "<div class=\"alert alert-block alert-danger\">\n",
    "    Wenn Sie das Notebook über <a href=\"https://mybinder.org/\">mybinder.org</a> geöffnet haben (Link auf der Kurswebseite), dann können Sie auf dem Server keine Ergebnisse speichern!\n",
    "    Nach 10 Minuten Inaktivität löscht mybinder <em>alle</em> Ergebnisse. Laden Sie sich das Notebook daher regelmäßig auf Ihren Rechner. \n",
    "    Gehen Sie dazu auf wie folgt vor:\n",
    "    <ol>\n",
    "        <li>Wählen Sie in der Menüleiste <b>File</b> &rarr; <b>Download&nbsp;as</b></li>\n",
    "        <li>Wählen Sie als Format <b>Notebook (.ipynb)</b></li>\n",
    "        <li>Je nach Browsereinstellungen lädt Ihr Browser das Notebook direkt herunter oder fragt Sie wo Sie die Datei speichern wollen.</li>\n",
    "    </ol>\n",
    "</div>"
   ]
  },
  {
   "cell_type": "markdown",
   "metadata": {},
   "source": [
    "Zunächst importieren wir einige Pythonmodule die wir immer wieder benötigen werden:\n",
    "* [NumPy](https://numpy.org): Numerische Basisroutinen ([Dokumentation][np-doc])\n",
    "* [pandas][pd]: Werkzeuge zur Datenanalyse und Datenmanipulation ([Dokumentation][pd-doc])\n",
    "* [seaborn][sns]: Statistische Visualisierungen ([Tutorial][sns-tut])\n",
    "* [Matplotlib][plt]: Grundlegende Visualisierungen und Plots ([Dokumentation][plt-doc])\n",
    "\n",
    "[np]: https://numpy.org/\n",
    "[np-doc]: https://numpy.org/doc/stable/\n",
    "[pd]: https://pandas.pydata.org/\n",
    "[pd-doc]: https://pandas.pydata.org/docs/\n",
    "[sns]: https://seaborn.pydata.org/\n",
    "[sns-tut]: https://seaborn.pydata.org/tutorial.html\n",
    "[plt]: https://matplotlib.org/\n",
    "[plt-doc]: https://matplotlib.org/contents.html"
   ]
  },
  {
   "cell_type": "code",
   "execution_count": null,
   "metadata": {},
   "outputs": [],
   "source": [
    "import numpy as np\n",
    "import pandas as pd\n",
    "import seaborn as sns\n",
    "import matplotlib.pyplot as plt"
   ]
  },
  {
   "cell_type": "markdown",
   "metadata": {},
   "source": [
    "Zur Erinnerung:\n",
    "* Sie können Zellen mit Quellcode ausführen indem Sie die Zelle auswählen und **Shift** + **Return** drücken.\n",
    "* Mit dern Pfeiltasten können Sie zwischen Zellen wechseln. \n",
    "* Um eine Zelle zu bearbeiten, wählen Sie diese aus und drücken **Return**.\n",
    "* Um Kommentare oder Freitext einzufügen, ändern Sie den Typ einer Zelle in *Markdown*. Wählen Sie dazu im Menü **Cell** &rarr; **Cell&nbsp;Type** **Markdown** aus.\n",
    "* Wenn Sie die letzte Zeile ausführen, fügt Jupyter automatisch eine neue Zelle am Ende des Notebooks an."
   ]
  },
  {
   "cell_type": "code",
   "execution_count": null,
   "metadata": {},
   "outputs": [],
   "source": [
    "# Ihr Code hier:\n",
    "1 + 2 + 3"
   ]
  }
 ],
 "metadata": {
  "kernelspec": {
   "display_name": "Python 3",
   "language": "python",
   "name": "python3"
  },
  "language_info": {
   "codemirror_mode": {
    "name": "ipython",
    "version": 3
   },
   "file_extension": ".py",
   "mimetype": "text/x-python",
   "name": "python",
   "nbconvert_exporter": "python",
   "pygments_lexer": "ipython3",
   "version": "3.9.0"
  }
 },
 "nbformat": 4,
 "nbformat_minor": 4
}
